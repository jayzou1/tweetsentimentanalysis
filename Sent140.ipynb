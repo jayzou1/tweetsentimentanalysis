{
 "cells": [
  {
   "cell_type": "markdown",
   "metadata": {},
   "source": [
    "# Tweet Sentiment Classification\n",
    "\n",
    "This is intended to be an introductory exercise in binary sentiment classification of microblog data using deep learning. We'll be using the Stanford Sentiment140 dataset, which has been a testing benchmark for a multitude of academic papers largely due to its enourmous size. In fact, it's so big that I'm cutting down to a 10% sample for training, as it would otherwise take far too long to train on a personal machine. \n",
    "\n",
    "First things first, we load in and preprocess the data."
   ]
  },
  {
   "cell_type": "code",
   "execution_count": 1,
   "metadata": {
    "collapsed": true
   },
   "outputs": [],
   "source": [
    "import pandas as pd\n",
    "\n",
    "sent140_full = pd.read_csv(\"./datasets/sentiment140/traindata.csv\", header = None)\n",
    "sent140_test = pd.read_csv(\"./datasets/sentiment140/testdata.csv\", header = None)"
   ]
  },
  {
   "cell_type": "markdown",
   "metadata": {},
   "source": [
    "Let's take a look at what our dataset looks like and compute some summary statistics. Sentiment140 is actually broken into two clasifications: positive (\"4\") and negative (\"0\")."
   ]
  },
  {
   "cell_type": "code",
   "execution_count": 2,
   "metadata": {},
   "outputs": [
    {
     "data": {
      "text/html": [
       "<div>\n",
       "<style>\n",
       "    .dataframe thead tr:only-child th {\n",
       "        text-align: right;\n",
       "    }\n",
       "\n",
       "    .dataframe thead th {\n",
       "        text-align: left;\n",
       "    }\n",
       "\n",
       "    .dataframe tbody tr th {\n",
       "        vertical-align: top;\n",
       "    }\n",
       "</style>\n",
       "<table border=\"1\" class=\"dataframe\">\n",
       "  <thead>\n",
       "    <tr style=\"text-align: right;\">\n",
       "      <th></th>\n",
       "      <th>0</th>\n",
       "      <th>1</th>\n",
       "      <th>2</th>\n",
       "      <th>3</th>\n",
       "      <th>4</th>\n",
       "      <th>5</th>\n",
       "    </tr>\n",
       "  </thead>\n",
       "  <tbody>\n",
       "    <tr>\n",
       "      <th>0</th>\n",
       "      <td>0</td>\n",
       "      <td>1467810369</td>\n",
       "      <td>Mon Apr 06 22:19:45 PDT 2009</td>\n",
       "      <td>NO_QUERY</td>\n",
       "      <td>_TheSpecialOne_</td>\n",
       "      <td>@switchfoot http://twitpic.com/2y1zl - Awww, t...</td>\n",
       "    </tr>\n",
       "    <tr>\n",
       "      <th>1</th>\n",
       "      <td>0</td>\n",
       "      <td>1467810672</td>\n",
       "      <td>Mon Apr 06 22:19:49 PDT 2009</td>\n",
       "      <td>NO_QUERY</td>\n",
       "      <td>scotthamilton</td>\n",
       "      <td>is upset that he can't update his Facebook by ...</td>\n",
       "    </tr>\n",
       "    <tr>\n",
       "      <th>2</th>\n",
       "      <td>0</td>\n",
       "      <td>1467810917</td>\n",
       "      <td>Mon Apr 06 22:19:53 PDT 2009</td>\n",
       "      <td>NO_QUERY</td>\n",
       "      <td>mattycus</td>\n",
       "      <td>@Kenichan I dived many times for the ball. Man...</td>\n",
       "    </tr>\n",
       "    <tr>\n",
       "      <th>3</th>\n",
       "      <td>0</td>\n",
       "      <td>1467811184</td>\n",
       "      <td>Mon Apr 06 22:19:57 PDT 2009</td>\n",
       "      <td>NO_QUERY</td>\n",
       "      <td>ElleCTF</td>\n",
       "      <td>my whole body feels itchy and like its on fire</td>\n",
       "    </tr>\n",
       "    <tr>\n",
       "      <th>4</th>\n",
       "      <td>0</td>\n",
       "      <td>1467811193</td>\n",
       "      <td>Mon Apr 06 22:19:57 PDT 2009</td>\n",
       "      <td>NO_QUERY</td>\n",
       "      <td>Karoli</td>\n",
       "      <td>@nationwideclass no, it's not behaving at all....</td>\n",
       "    </tr>\n",
       "    <tr>\n",
       "      <th>5</th>\n",
       "      <td>0</td>\n",
       "      <td>1467811372</td>\n",
       "      <td>Mon Apr 06 22:20:00 PDT 2009</td>\n",
       "      <td>NO_QUERY</td>\n",
       "      <td>joy_wolf</td>\n",
       "      <td>@Kwesidei not the whole crew</td>\n",
       "    </tr>\n",
       "    <tr>\n",
       "      <th>6</th>\n",
       "      <td>0</td>\n",
       "      <td>1467811592</td>\n",
       "      <td>Mon Apr 06 22:20:03 PDT 2009</td>\n",
       "      <td>NO_QUERY</td>\n",
       "      <td>mybirch</td>\n",
       "      <td>Need a hug</td>\n",
       "    </tr>\n",
       "    <tr>\n",
       "      <th>7</th>\n",
       "      <td>0</td>\n",
       "      <td>1467811594</td>\n",
       "      <td>Mon Apr 06 22:20:03 PDT 2009</td>\n",
       "      <td>NO_QUERY</td>\n",
       "      <td>coZZ</td>\n",
       "      <td>@LOLTrish hey  long time no see! Yes.. Rains a...</td>\n",
       "    </tr>\n",
       "    <tr>\n",
       "      <th>8</th>\n",
       "      <td>0</td>\n",
       "      <td>1467811795</td>\n",
       "      <td>Mon Apr 06 22:20:05 PDT 2009</td>\n",
       "      <td>NO_QUERY</td>\n",
       "      <td>2Hood4Hollywood</td>\n",
       "      <td>@Tatiana_K nope they didn't have it</td>\n",
       "    </tr>\n",
       "    <tr>\n",
       "      <th>9</th>\n",
       "      <td>0</td>\n",
       "      <td>1467812025</td>\n",
       "      <td>Mon Apr 06 22:20:09 PDT 2009</td>\n",
       "      <td>NO_QUERY</td>\n",
       "      <td>mimismo</td>\n",
       "      <td>@twittera que me muera ?</td>\n",
       "    </tr>\n",
       "    <tr>\n",
       "      <th>10</th>\n",
       "      <td>0</td>\n",
       "      <td>1467812416</td>\n",
       "      <td>Mon Apr 06 22:20:16 PDT 2009</td>\n",
       "      <td>NO_QUERY</td>\n",
       "      <td>erinx3leannexo</td>\n",
       "      <td>spring break in plain city... it's snowing</td>\n",
       "    </tr>\n",
       "    <tr>\n",
       "      <th>11</th>\n",
       "      <td>0</td>\n",
       "      <td>1467812579</td>\n",
       "      <td>Mon Apr 06 22:20:17 PDT 2009</td>\n",
       "      <td>NO_QUERY</td>\n",
       "      <td>pardonlauren</td>\n",
       "      <td>I just re-pierced my ears</td>\n",
       "    </tr>\n",
       "    <tr>\n",
       "      <th>12</th>\n",
       "      <td>0</td>\n",
       "      <td>1467812723</td>\n",
       "      <td>Mon Apr 06 22:20:19 PDT 2009</td>\n",
       "      <td>NO_QUERY</td>\n",
       "      <td>TLeC</td>\n",
       "      <td>@caregiving I couldn't bear to watch it.  And ...</td>\n",
       "    </tr>\n",
       "    <tr>\n",
       "      <th>13</th>\n",
       "      <td>0</td>\n",
       "      <td>1467812771</td>\n",
       "      <td>Mon Apr 06 22:20:19 PDT 2009</td>\n",
       "      <td>NO_QUERY</td>\n",
       "      <td>robrobbierobert</td>\n",
       "      <td>@octolinz16 It it counts, idk why I did either...</td>\n",
       "    </tr>\n",
       "    <tr>\n",
       "      <th>14</th>\n",
       "      <td>0</td>\n",
       "      <td>1467812784</td>\n",
       "      <td>Mon Apr 06 22:20:20 PDT 2009</td>\n",
       "      <td>NO_QUERY</td>\n",
       "      <td>bayofwolves</td>\n",
       "      <td>@smarrison i would've been the first, but i di...</td>\n",
       "    </tr>\n",
       "    <tr>\n",
       "      <th>15</th>\n",
       "      <td>0</td>\n",
       "      <td>1467812799</td>\n",
       "      <td>Mon Apr 06 22:20:20 PDT 2009</td>\n",
       "      <td>NO_QUERY</td>\n",
       "      <td>HairByJess</td>\n",
       "      <td>@iamjazzyfizzle I wish I got to watch it with ...</td>\n",
       "    </tr>\n",
       "    <tr>\n",
       "      <th>16</th>\n",
       "      <td>0</td>\n",
       "      <td>1467812964</td>\n",
       "      <td>Mon Apr 06 22:20:22 PDT 2009</td>\n",
       "      <td>NO_QUERY</td>\n",
       "      <td>lovesongwriter</td>\n",
       "      <td>Hollis' death scene will hurt me severely to w...</td>\n",
       "    </tr>\n",
       "    <tr>\n",
       "      <th>17</th>\n",
       "      <td>0</td>\n",
       "      <td>1467813137</td>\n",
       "      <td>Mon Apr 06 22:20:25 PDT 2009</td>\n",
       "      <td>NO_QUERY</td>\n",
       "      <td>armotley</td>\n",
       "      <td>about to file taxes</td>\n",
       "    </tr>\n",
       "    <tr>\n",
       "      <th>18</th>\n",
       "      <td>0</td>\n",
       "      <td>1467813579</td>\n",
       "      <td>Mon Apr 06 22:20:31 PDT 2009</td>\n",
       "      <td>NO_QUERY</td>\n",
       "      <td>starkissed</td>\n",
       "      <td>@LettyA ahh ive always wanted to see rent  lov...</td>\n",
       "    </tr>\n",
       "    <tr>\n",
       "      <th>19</th>\n",
       "      <td>0</td>\n",
       "      <td>1467813782</td>\n",
       "      <td>Mon Apr 06 22:20:34 PDT 2009</td>\n",
       "      <td>NO_QUERY</td>\n",
       "      <td>gi_gi_bee</td>\n",
       "      <td>@FakerPattyPattz Oh dear. Were you drinking ou...</td>\n",
       "    </tr>\n",
       "  </tbody>\n",
       "</table>\n",
       "</div>"
      ],
      "text/plain": [
       "    0           1                             2         3                4  \\\n",
       "0   0  1467810369  Mon Apr 06 22:19:45 PDT 2009  NO_QUERY  _TheSpecialOne_   \n",
       "1   0  1467810672  Mon Apr 06 22:19:49 PDT 2009  NO_QUERY    scotthamilton   \n",
       "2   0  1467810917  Mon Apr 06 22:19:53 PDT 2009  NO_QUERY         mattycus   \n",
       "3   0  1467811184  Mon Apr 06 22:19:57 PDT 2009  NO_QUERY          ElleCTF   \n",
       "4   0  1467811193  Mon Apr 06 22:19:57 PDT 2009  NO_QUERY           Karoli   \n",
       "5   0  1467811372  Mon Apr 06 22:20:00 PDT 2009  NO_QUERY         joy_wolf   \n",
       "6   0  1467811592  Mon Apr 06 22:20:03 PDT 2009  NO_QUERY          mybirch   \n",
       "7   0  1467811594  Mon Apr 06 22:20:03 PDT 2009  NO_QUERY             coZZ   \n",
       "8   0  1467811795  Mon Apr 06 22:20:05 PDT 2009  NO_QUERY  2Hood4Hollywood   \n",
       "9   0  1467812025  Mon Apr 06 22:20:09 PDT 2009  NO_QUERY          mimismo   \n",
       "10  0  1467812416  Mon Apr 06 22:20:16 PDT 2009  NO_QUERY   erinx3leannexo   \n",
       "11  0  1467812579  Mon Apr 06 22:20:17 PDT 2009  NO_QUERY     pardonlauren   \n",
       "12  0  1467812723  Mon Apr 06 22:20:19 PDT 2009  NO_QUERY             TLeC   \n",
       "13  0  1467812771  Mon Apr 06 22:20:19 PDT 2009  NO_QUERY  robrobbierobert   \n",
       "14  0  1467812784  Mon Apr 06 22:20:20 PDT 2009  NO_QUERY      bayofwolves   \n",
       "15  0  1467812799  Mon Apr 06 22:20:20 PDT 2009  NO_QUERY       HairByJess   \n",
       "16  0  1467812964  Mon Apr 06 22:20:22 PDT 2009  NO_QUERY   lovesongwriter   \n",
       "17  0  1467813137  Mon Apr 06 22:20:25 PDT 2009  NO_QUERY         armotley   \n",
       "18  0  1467813579  Mon Apr 06 22:20:31 PDT 2009  NO_QUERY       starkissed   \n",
       "19  0  1467813782  Mon Apr 06 22:20:34 PDT 2009  NO_QUERY        gi_gi_bee   \n",
       "\n",
       "                                                    5  \n",
       "0   @switchfoot http://twitpic.com/2y1zl - Awww, t...  \n",
       "1   is upset that he can't update his Facebook by ...  \n",
       "2   @Kenichan I dived many times for the ball. Man...  \n",
       "3     my whole body feels itchy and like its on fire   \n",
       "4   @nationwideclass no, it's not behaving at all....  \n",
       "5                       @Kwesidei not the whole crew   \n",
       "6                                         Need a hug   \n",
       "7   @LOLTrish hey  long time no see! Yes.. Rains a...  \n",
       "8                @Tatiana_K nope they didn't have it   \n",
       "9                           @twittera que me muera ?   \n",
       "10        spring break in plain city... it's snowing   \n",
       "11                         I just re-pierced my ears   \n",
       "12  @caregiving I couldn't bear to watch it.  And ...  \n",
       "13  @octolinz16 It it counts, idk why I did either...  \n",
       "14  @smarrison i would've been the first, but i di...  \n",
       "15  @iamjazzyfizzle I wish I got to watch it with ...  \n",
       "16  Hollis' death scene will hurt me severely to w...  \n",
       "17                               about to file taxes   \n",
       "18  @LettyA ahh ive always wanted to see rent  lov...  \n",
       "19  @FakerPattyPattz Oh dear. Were you drinking ou...  "
      ]
     },
     "execution_count": 2,
     "metadata": {},
     "output_type": "execute_result"
    }
   ],
   "source": [
    "sent140_full.head(20)"
   ]
  },
  {
   "cell_type": "code",
   "execution_count": 3,
   "metadata": {},
   "outputs": [
    {
     "name": "stdout",
     "output_type": "stream",
     "text": [
      "Average Characters per Tweet: 74.09011125\n",
      "Average Words per Tweet: 14.382130625\n",
      "Label Distribution:\n",
      "4    800000\n",
      "0    800000\n",
      "Name: 0, dtype: int64\n"
     ]
    }
   ],
   "source": [
    "import numpy as np\n",
    "\n",
    "print \"Average Characters per Tweet:\", np.average([len(tweet) for tweet in sent140_full[5].values])\n",
    "print \"Average Words per Tweet:\", np.average([len(tweet.split(\" \")) for tweet in sent140_full[5].values])\n",
    "print \"Label Distribution:\"\n",
    "print sent140_full[0].value_counts()"
   ]
  },
  {
   "cell_type": "markdown",
   "metadata": {},
   "source": [
    "We have approximately 74 characters per tweet (including spaces), 14 words per tweet, and an equal number of positive and negative tweets. We next take a sample of the dataset for use in our neural network training."
   ]
  },
  {
   "cell_type": "code",
   "execution_count": 4,
   "metadata": {
    "collapsed": true
   },
   "outputs": [],
   "source": [
    "sent140_train = sent140_full.sample(frac = 0.10)\n",
    "sent140_test = sent140_test[sent140_test[0].isin([4,0])]"
   ]
  },
  {
   "cell_type": "markdown",
   "metadata": {},
   "source": [
    "# Word Embeddings\n",
    "\n",
    "A popular approach in natural language processing is using an embedded representation of words. By embedding words into n-dimensional vectors based on their co-occurence with other words in a corpus, we establish word-level similarities in the matrix that might not be captured in a sparser one-hot vocabulary representation. That is, words that appear in similar semantic circumstances should be embedded into similar vector representations and thus be closer in Euclidean space. We'll be using the Word2Vec library to build word embeddings for this corpus.\n",
    "\n",
    "First, we build a vocabulary mapping for all the words contained within our tweet data."
   ]
  },
  {
   "cell_type": "code",
   "execution_count": 5,
   "metadata": {
    "collapsed": true
   },
   "outputs": [],
   "source": [
    "from collections import Counter\n",
    "import numpy as np\n",
    "from gensim.models import Word2Vec\n",
    "\n",
    "def build_vocab(sentences):\n",
    "    vocab = Counter()\n",
    "    lens = []\n",
    "    for sentence in sentences:\n",
    "        lens.append(len(sentence.split(\" \")))\n",
    "        for word in sentence.split(\" \"):\n",
    "            if word != '':\n",
    "                vocab[word.lower()] += 1\n",
    "\n",
    "    #Summary Statistics\n",
    "    print \"Vocab Size:\", len(vocab)\n",
    "    print \"Number of Words:\", np.sum(vocab.values())\n",
    "    print \"Average Sentence Length:\", np.average(lens)\n",
    "    print \"Top Twenty Most Common:\"\n",
    "    for word in vocab.most_common(20):\n",
    "        print word\n",
    "        \n",
    "    mapping = dict(zip(vocab.keys(), np.arange(len(vocab))))\n",
    "    return vocab, mapping"
   ]
  },
  {
   "cell_type": "code",
   "execution_count": 6,
   "metadata": {},
   "outputs": [
    {
     "name": "stdout",
     "output_type": "stream",
     "text": [
      "Vocab Size: 1193538\n",
      "Number of Words: 21080792\n",
      "Average Sentence Length: 14.382130625\n",
      "Top Twenty Most Common:\n",
      "('i', 746583)\n",
      "('to', 560313)\n",
      "('the', 518728)\n",
      "('a', 376421)\n",
      "('my', 312846)\n",
      "('and', 295670)\n",
      "('you', 237766)\n",
      "('is', 231085)\n",
      "('for', 214050)\n",
      "('in', 209958)\n",
      "('it', 191050)\n",
      "('of', 182598)\n",
      "('on', 161592)\n",
      "('so', 145769)\n",
      "('have', 143295)\n",
      "('that', 128774)\n",
      "('me', 128489)\n",
      "(\"i'm\", 127616)\n",
      "('but', 124673)\n",
      "('just', 124453)\n"
     ]
    }
   ],
   "source": [
    "sent140s = sent140_train[5].values\n",
    "sent140t = sent140_test[5].values\n",
    "sent140_vocab, sent140_mapping = build_vocab(sent140_full[5].values)"
   ]
  },
  {
   "cell_type": "markdown",
   "metadata": {},
   "source": [
    "## Generating embedded representations of sentences\n",
    "\n",
    "Here we generate the embedded vector representations of each sentence, using an \"out-of-vocabulary\" token for each word that appears less than 5 times in the corpus."
   ]
  },
  {
   "cell_type": "code",
   "execution_count": 7,
   "metadata": {
    "collapsed": true
   },
   "outputs": [],
   "source": [
    "def preprocess_sents(sents, vocab, mincount):\n",
    "    p_sents = []\n",
    "    for sent in sents:\n",
    "        processed = []\n",
    "        for word in sent.split(\" \"):\n",
    "            if vocab[word.lower().strip()] >= mincount:\n",
    "                processed.append(word.lower())\n",
    "            else:\n",
    "                processed.append(\"oov\")\n",
    "        p_sents.append(processed)\n",
    "        \n",
    "    return p_sents\n",
    "\n",
    "def generate_vectors(sentences, df_labels, mapping):\n",
    "    vectors = []\n",
    "    labels = []\n",
    "    maximum = 0\n",
    "    for sentence, label in zip(sentences, df_labels):\n",
    "        if len(sentence) > 140:\n",
    "            continue\n",
    "        vector = [mapping[word.lower()] for word in sentence.split(\" \")]\n",
    "        vectors.append(vector)\n",
    "        labels.append(label)\n",
    "    return vectors, labels\n",
    "\n",
    "def generate_embedv(sentences, vocab, embed):\n",
    "    vectors = []\n",
    "    oovcount = 0\n",
    "    for sentence in sentences:\n",
    "        vector = []\n",
    "        for word in sentence:\n",
    "            if word in embed:\n",
    "                vector.append(embed[word])\n",
    "            else:\n",
    "                vector.append(embed[\"oov\"])\n",
    "                oovcount += 1\n",
    "        vectors.append(np.array(vector))\n",
    "    print oovcount\n",
    "    return vectors\n",
    "    "
   ]
  },
  {
   "cell_type": "code",
   "execution_count": 8,
   "metadata": {
    "collapsed": true
   },
   "outputs": [],
   "source": [
    "mincount = 5\n",
    "embedding_size = 30\n",
    "\n",
    "processed_train = preprocess_sents(sent140s, sent140_vocab, mincount)"
   ]
  },
  {
   "cell_type": "code",
   "execution_count": 9,
   "metadata": {},
   "outputs": [
    {
     "name": "stderr",
     "output_type": "stream",
     "text": [
      "/Users/Jay/anaconda2/lib/python2.7/site-packages/ipykernel_launcher.py:32: DeprecationWarning: Call to deprecated `__contains__` (Method will be removed in 4.0.0, use self.wv.__contains__() instead).\n",
      "/Users/Jay/anaconda2/lib/python2.7/site-packages/ipykernel_launcher.py:33: DeprecationWarning: Call to deprecated `__getitem__` (Method will be removed in 4.0.0, use self.wv.__getitem__() instead).\n",
      "/Users/Jay/anaconda2/lib/python2.7/site-packages/ipykernel_launcher.py:35: DeprecationWarning: Call to deprecated `__getitem__` (Method will be removed in 4.0.0, use self.wv.__getitem__() instead).\n"
     ]
    },
    {
     "name": "stdout",
     "output_type": "stream",
     "text": [
      "111167\n",
      "406\n"
     ]
    }
   ],
   "source": [
    "embedding_train = Word2Vec(processed_train, size=embedding_size, min_count = mincount)\n",
    "train_embeds = generate_embedv(processed_train, sent140_vocab, embedding_train)\n",
    "processed_test = preprocess_sents(sent140t, sent140_vocab, mincount)\n",
    "test_embeds = generate_embedv(processed_test, sent140_vocab, embedding_train)"
   ]
  },
  {
   "cell_type": "markdown",
   "metadata": {},
   "source": [
    "# Learning a Neural Network\n",
    "\n",
    "We'll be using Keras to create a simple neural network to learn on and classify our embedded sentence representations. "
   ]
  },
  {
   "cell_type": "code",
   "execution_count": 10,
   "metadata": {},
   "outputs": [
    {
     "name": "stderr",
     "output_type": "stream",
     "text": [
      "Using TensorFlow backend.\n"
     ]
    }
   ],
   "source": [
    "import numpy as np\n",
    "import os, errno\n",
    "import pandas as pd\n",
    "import sys\n",
    "from keras.callbacks import EarlyStopping, Callback\n",
    "from keras.models import Sequential\n",
    "from keras.layers import Activation, Dense, LSTM, Flatten, Dropout, Conv1D, MaxPooling1D, SimpleRNN, GRU, Bidirectional\n",
    "from keras.layers.normalization import BatchNormalization\n",
    "from keras import optimizers\n",
    "from keras import regularizers\n",
    "from keras.preprocessing.sequence import pad_sequences\n",
    "from sklearn.model_selection import train_test_split, StratifiedKFold"
   ]
  },
  {
   "cell_type": "markdown",
   "metadata": {},
   "source": [
    "## Padding\n",
    "\n",
    "Since neural networks generally have a fixed input size and our embedded sentences vary in length, we have to pad each sequence so that they are all the same size. We need to make sure that we can predict on our test data, so we pad our data with zeros to be the same size as the maximum length vector of either training or test data, whichever is larger."
   ]
  },
  {
   "cell_type": "code",
   "execution_count": 11,
   "metadata": {
    "collapsed": true
   },
   "outputs": [],
   "source": [
    "max_train = np.max([len(arr) for arr in train_embeds])\n",
    "max_test = np.max([len(arr) for arr in test_embeds])\n",
    "\n",
    "max_len = max_train\n",
    "if max_test > max_len:\n",
    "    max_len = max_test\n",
    "\n",
    "padded_train = pad_sequences(train_embeds, dtype = \"float32\", maxlen = max_len)\n",
    "padded_test = pad_sequences(test_embeds, dtype = \"float32\", maxlen = max_len)"
   ]
  },
  {
   "cell_type": "code",
   "execution_count": 12,
   "metadata": {
    "collapsed": true
   },
   "outputs": [],
   "source": [
    "labels_train = sent140_train[0].map({4: 1, 0:0}).values\n",
    "labels_test = sent140_test[0].map({4: 1, 0:0}).values"
   ]
  },
  {
   "cell_type": "code",
   "execution_count": 13,
   "metadata": {
    "collapsed": true
   },
   "outputs": [],
   "source": [
    "def shuffle_together(a, b):\n",
    "    rng_state = np.random.get_state()\n",
    "    np.random.shuffle(a)\n",
    "    np.random.set_state(rng_state)\n",
    "    np.random.shuffle(b)\n",
    "\n",
    "def split_data(data, labels):\n",
    "    shuffle_together(data, labels)\n",
    "    X_train, X_val, y_train, y_val = train_test_split(data, labels, test_size = 0.2)\n",
    "    return X_train, X_val, y_train, y_val\n"
   ]
  },
  {
   "cell_type": "code",
   "execution_count": 16,
   "metadata": {
    "collapsed": true
   },
   "outputs": [],
   "source": [
    "batch_size = 10000\n",
    "optimizer = optimizers.Adam(lr = 0.02)\n",
    "epochs = 50\n",
    "\n",
    "class History(Callback):\n",
    "    def on_train_begin(self, logs={}):\n",
    "        self.losses = []\n",
    "        self.train_acc = []\n",
    "        self.val_acc = []\n",
    "\n",
    "    def on_epoch_end(self, batch, logs={}):\n",
    "        self.losses.append(logs.get('loss'))\n",
    "        self.train_acc.append(logs.get('acc'))\n",
    "        self.val_acc.append(logs.get('val_acc'))\n",
    "\n",
    "def train_model(layer_func, train_x, val_x, train_y, val_y, epochs):\n",
    "    input_size = (train_x.shape[1], train_x.shape[2])\n",
    "    model = layer_func(input_size)\n",
    "    model.compile(loss = \"binary_crossentropy\", optimizer = optimizer, metrics = [\"accuracy\"])\n",
    "    history = History()\n",
    "    earlystop = EarlyStopping(monitor='val_acc', min_delta=0.001, patience=5, verbose=1, mode='auto')\n",
    "    model.fit(train_x, train_y, validation_data = (val_x, val_y), shuffle = True, batch_size = batch_size, epochs = epochs, callbacks = [history, earlystop])\n",
    "    return model, history"
   ]
  },
  {
   "cell_type": "code",
   "execution_count": 33,
   "metadata": {
    "collapsed": true
   },
   "outputs": [],
   "source": [
    "def cnn(input_size):\n",
    "    model = Sequential()\n",
    "    model.add(Conv1D(filters = 32, kernel_size = 8,input_shape = (input_size)))\n",
    "    model.add(MaxPooling1D(pool_size=4, padding='valid'))\n",
    "    model.add(Dropout(0.5))\n",
    "    model.add(Conv1D(filters = 16, kernel_size = 4,input_shape = (input_size)))\n",
    "    model.add(MaxPooling1D(pool_size=2, padding='valid'))\n",
    "    model.add(Dropout(0.5))\n",
    "    model.add(Flatten())\n",
    "    model.add(Dense(1, activation = \"sigmoid\"))\n",
    "    return model"
   ]
  },
  {
   "cell_type": "code",
   "execution_count": null,
   "metadata": {},
   "outputs": [
    {
     "name": "stdout",
     "output_type": "stream",
     "text": [
      "Train on 128000 samples, validate on 32000 samples\n",
      "Epoch 1/50\n",
      " 80000/128000 [=================>............] - ETA: 68s - loss: 0.8864 - acc: 0.5052"
     ]
    }
   ],
   "source": [
    "np.random.seed(7)\n",
    "\n",
    "scores = []\n",
    "models = []\n",
    "histories = []\n",
    "\n",
    "for x in xrange(1, 11):\n",
    "    X_train, X_val, y_train, y_val, = split_data(padded_train, labels_train)\n",
    "    model, history = train_model(lstm, X_train, X_val, y_train, y_val, epochs)\n",
    "    score = model.evaluate(padded_test, labels_test)\n",
    "    models.append(model)\n",
    "    histories.append(history)\n",
    "    scores.append(score[1])\n",
    "    print \"Model Acc:%f\" % (score[1]) "
   ]
  },
  {
   "cell_type": "code",
   "execution_count": 21,
   "metadata": {},
   "outputs": [
    {
     "name": "stdout",
     "output_type": "stream",
     "text": [
      "Average Accuracy: 0.665738 +/- 0.018477\n"
     ]
    }
   ],
   "source": [
    "avg_acc = np.average(scores)\n",
    "avg_std = np.std(scores)\n",
    "\n",
    "print \"Average Accuracy: %f +/- %f\" % (avg_acc, avg_std)\n",
    "\n"
   ]
  },
  {
   "cell_type": "code",
   "execution_count": 71,
   "metadata": {
    "collapsed": true
   },
   "outputs": [],
   "source": [
    "import matplotlib.pyplot as plt\n",
    "\n",
    "def plot_history(ys, names, title, ylabel):\n",
    "    plt.clf()\n",
    "    for y, name in zip(ys, names):\n",
    "        x = np.arange(1, len(y) + 1)\n",
    "        plt.plot(x, y, label = name)\n",
    "        plt.title(title)\n",
    "        plt.ylabel(ylabel)\n",
    "        plt.xlabel(\"Epoch\")\n",
    "    plt.legend()\n",
    "    plt.savefig(\"./figures/\"+title+\".pdf\")\n",
    "    plt.show()"
   ]
  },
  {
   "cell_type": "code",
   "execution_count": 72,
   "metadata": {},
   "outputs": [
    {
     "data": {
      "image/png": "[encoded data removed]",
      "text/plain": [
       "<matplotlib.figure.Figure at 0x1a42447d10>"
      ]
     },
     "metadata": {},
     "output_type": "display_data"
    }
   ],
   "source": [
    "ys = [cnn_history.train_acc, cnn_history.val_acc]\n",
    "\n",
    "plot_history(ys, [\"Training Accuracy\", \"Dev Accuracy\"], \"CNN Training History\", \"Accuracy\")"
   ]
  },
  {
   "cell_type": "code",
   "execution_count": 51,
   "metadata": {},
   "outputs": [
    {
     "name": "stdout",
     "output_type": "stream",
     "text": [
      "0.66573816156\n"
     ]
    }
   ],
   "source": [
    "from sklearn.linear_model import LogisticRegression\n",
    "from sklearn.metrics import accuracy_score\n",
    "\n",
    "X_transformed = [np.concatenate(x) for x in padded_train]\n",
    "X_test_transformed = [np.concatenate(x) for x in padded_test]\n",
    "\n",
    "logR = LogisticRegression().fit(X_transformed, labels_train)\n",
    "y_pred = logR.predict(X_test_transformed)\n",
    "print accuracy_score(labels_test, y_pred)"
   ]
  },
  {
   "cell_type": "code",
   "execution_count": null,
   "metadata": {
    "collapsed": true
   },
   "outputs": [],
   "source": [
    "\n",
    "def lstm(input_size):\n",
    "    model = Sequential()\n",
    "    model.add(LSTM(units = 64,input_shape = (input_size)))\n",
    "    model.add(Dropout(0.5))\n",
    "    model.add(Dense(1, activation = \"sigmoid\"))\n",
    "    return model"
   ]
  }
 ],
 "metadata": {
  "kernelspec": {
   "display_name": "Python 2",
   "language": "python",
   "name": "python2"
  },
  "language_info": {
   "codemirror_mode": {
    "name": "ipython",
    "version": 2
   },
   "file_extension": ".py",
   "mimetype": "text/x-python",
   "name": "python",
   "nbconvert_exporter": "python",
   "pygments_lexer": "ipython2",
   "version": "2.7.14"
  }
 },
 "nbformat": 4,
 "nbformat_minor": 2
}
